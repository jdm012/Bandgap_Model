{
 "cells": [
  {
   "cell_type": "markdown",
   "id": "8bc507f6",
   "metadata": {},
   "source": [
    "# Data Preparation, Feature Engineering and Concatenation  \n",
    "\n",
    "This notebook is used to generate and organize the features that will serve as inputs for training. Specifically, to align two complementary sources of information:  \n",
    "- CNN-extracted diffractogram features, which capture patterns directly from diffraction data, and  \n",
    "- Patolli-generated descriptors, which encode solid-state principles into structured representations of material properties for predictive modeling.  \n",
    "\n"
   ]
  },
  {
   "cell_type": "code",
   "execution_count": 1,
   "id": "044d26b2",
   "metadata": {},
   "outputs": [
    {
     "name": "stderr",
     "output_type": "stream",
     "text": [
      "2025-09-19 23:12:07.696685: E external/local_xla/xla/stream_executor/cuda/cuda_fft.cc:485] Unable to register cuFFT factory: Attempting to register factory for plugin cuFFT when one has already been registered\n",
      "2025-09-19 23:12:07.727796: E external/local_xla/xla/stream_executor/cuda/cuda_dnn.cc:8454] Unable to register cuDNN factory: Attempting to register factory for plugin cuDNN when one has already been registered\n",
      "2025-09-19 23:12:07.735855: E external/local_xla/xla/stream_executor/cuda/cuda_blas.cc:1452] Unable to register cuBLAS factory: Attempting to register factory for plugin cuBLAS when one has already been registered\n",
      "2025-09-19 23:12:07.760901: I tensorflow/core/platform/cpu_feature_guard.cc:210] This TensorFlow binary is optimized to use available CPU instructions in performance-critical operations.\n",
      "To enable the following instructions: AVX2 FMA, in other operations, rebuild TensorFlow with the appropriate compiler flags.\n",
      "2025-09-19 23:12:08.753986: W tensorflow/compiler/tf2tensorrt/utils/py_utils.cc:38] TF-TRT Warning: Could not find TensorRT\n"
     ]
    }
   ],
   "source": [
    "#Import of all libraries and utilities\n",
    "import tensorflow.keras.layers as layers\n",
    "import tensorflow.keras.models as models\n",
    "import tensorflow.keras.utils as kutils\n",
    "import tensorflow.keras.callbacks as callbacks\n",
    "import tensorflow.keras.optimizers as optimizer\n",
    "from sklearn.utils import shuffle\n",
    "from sklearn.metrics import confusion_matrix\n",
    "from sklearn.metrics import precision_recall_fscore_support as PRFS\n",
    "from sklearn.utils import shuffle\n",
    "from sklearn.metrics import precision_recall_fscore_support as PRFS\n",
    "from sklearn.cluster import KMeans\n",
    "from sklearn.metrics import mean_squared_error, mean_absolute_error, r2_score\n",
    "import numpy as np\n",
    "import pandas as pd\n",
    "import matplotlib.pyplot as plt\n",
    "import seaborn as sns\n",
    "import numpy as np\n",
    "import pandas as pd\n",
    "import matplotlib.pyplot as plt\n",
    "import itertools\n",
    "import datetime\n",
    "import time\n",
    "import copy\n",
    "import os"
   ]
  },
  {
   "cell_type": "markdown",
   "id": "7ce3c418",
   "metadata": {},
   "source": [
    "Building the dataframes from the target collection and the locality functions"
   ]
  },
  {
   "cell_type": "code",
   "execution_count": 2,
   "id": "3724a34d",
   "metadata": {},
   "outputs": [],
   "source": [
    "df = pd.read_pickle('./support/hseDatasetSummary.pkl')\n",
    "db = pd.read_pickle('./support/hseDataset.pkl')\n",
    "fij_diccio = np.load('./support/Rc_25_pot_2.0_diccio.npy', allow_pickle=True).item()"
   ]
  },
  {
   "cell_type": "markdown",
   "id": "3c9e54c7",
   "metadata": {},
   "source": [
    "Work will be conducted on crystalline materials characterized by up to 10 Wyckoff sites."
   ]
  },
  {
   "cell_type": "markdown",
   "id": "9b2253c7",
   "metadata": {},
   "source": [
    "### Functions for descriptor construction"
   ]
  },
  {
   "cell_type": "code",
   "execution_count": 3,
   "id": "01067963",
   "metadata": {},
   "outputs": [],
   "source": [
    "def raw_features_extractor(sites=-1, df=pd.DataFrame):\n",
    "    \n",
    "    \"\"\"\n",
    "    Function taken from patolli.py and modified afterward.\n",
    "    Parameters: \n",
    "        sites: int, it constrains the creation of the compounds collection\n",
    "                to samples with a maximum number of Wyckoff sites.\n",
    "    Returns:\n",
    "        X: A tensor which dimensions are the samples x sites x pair atomic radius and electronegativity.\n",
    "            This is saved as raw_features.npy\n",
    "        S: A tensor which dimensions are the samples x sites x multiplicity of the site\n",
    "            This is saved as multiplicites.npy\n",
    "        fracsum: A tensor which dimensions are the samples x sites x the occupation fraction of the site\n",
    "            This is saved as occupation_fractions.npy\n",
    "        df: The collection of the compounds created with the function create_collection.\n",
    "    \"\"\"\n",
    "  \n",
    "    start=time.time()\n",
    "    \n",
    "    datos=pd.read_csv('./support/datosrahm.csv')\n",
    "    datos=datos.fillna(-1)\n",
    "\n",
    "    dicc=dict(datos[['Symbol','Z']].values)\n",
    "\n",
    "    dicc['D']=1\n",
    "    dicc['Bk']=97\n",
    "    dicc['Cf']=98\n",
    "    dicc['Es']=99\n",
    "    dicc['Fm']=100\n",
    "    dicc['Md']=101\n",
    "    dicc['No']=102\n",
    "    dicc['Lr']=103\n",
    "    \n",
    "    if sites == -1:\n",
    "        max_sitios = df['sites'].max()\n",
    "    else: \n",
    "        max_sitios = sites\n",
    "\n",
    "    df=df[df['sites'] <= max_sitios].reset_index(drop=True)\n",
    "    \n",
    "    X=np.zeros((len(df),max_sitios,104))\n",
    "    mult=np.zeros((len(df),max_sitios))\n",
    "    wyckmul=np.load('./support/WyckoffSG_dict.npy', allow_pickle=True).item()['wyckmul']\n",
    "    \n",
    "    todelete = list()    \n",
    "    for row in range(len(df)):\n",
    "        \n",
    "        item=df['WyckOcc'][row]\n",
    "        sitios=list(item.values()) \n",
    "        sitocc=np.zeros((len(sitios),104))\n",
    "        spacegroup = str(df['sgnum'][row]).zfill(3)\n",
    "        \n",
    "        try:\n",
    "        \n",
    "            s=[int(wyckmul[spacegroup][i]) for j in [list(item.keys()) for item in \\\n",
    "               sitios] for i in j]\n",
    "        \n",
    "        except:\n",
    "            print('The compound with the cif ', df['cif'][row], ' will be deleted from the collection.')\n",
    "            print('The collection will be updated')\n",
    "            todelete += [row]\n",
    "            continue\n",
    "            \n",
    "        occs=[]\n",
    "        for i in range(len(sitios)):\n",
    "\n",
    "            for j in list(sitios[i].values()):\n",
    "                \n",
    "                ocupacion=np.array(list(j.values()))\n",
    "                llaves=[llave.replace('+','').replace('-','').replace('1',\n",
    "                        '').replace('2','').replace('3','').replace('4',\n",
    "                                   '') for llave in np.array(list(j.keys()))]\n",
    "                llaves=[llave.replace('.','') for llave in llaves]\n",
    "                llaves=[llave.replace('5','').replace('6','').replace('7',\n",
    "                        '').replace('8','').replace('9','').replace('0',\n",
    "                                   '') for llave in llaves]\n",
    "                vector=np.zeros((1,104))\n",
    "                occs=[sum(ocupacion)]+occs\n",
    "                \n",
    "                try:\n",
    "                    \n",
    "                    idx=[dicc[k] for k in llaves]\n",
    "                \n",
    "                except:\n",
    "                    \n",
    "                    print('The compound with the cif ', df['cif'][row], ' will be deleted from the collection.')\n",
    "                    print('The collection will be updated')\n",
    "                    todelete += [row]\n",
    "                    continue\n",
    "                    \n",
    "                for k in idx:\n",
    "                    vector[0][k-1] = ocupacion[idx.index(k)]\n",
    "                \n",
    "            sitocc[i]=vector\n",
    "    \n",
    "        while sitocc.shape[0] != max_sitios:\n",
    "            sitocc=np.concatenate((np.zeros((1,104)),sitocc))\n",
    "            s=[0]+s\n",
    "        \n",
    "        X[row,:,:]=sitocc\n",
    "        mult[row]=s\n",
    "    \n",
    "    S = np.expand_dims(mult,axis=2)\n",
    "    features=datos.iloc[:,2:5].values\n",
    "    x=X[:,:,:96]\n",
    "    print(x.shape)\n",
    "    fracsum = np.expand_dims(np.sum(x,axis=2), axis=2)\n",
    "    \n",
    "    x=np.dot(x,features)    \n",
    "    \n",
    "    x = np.delete(x, todelete, axis=0)\n",
    "    S = np.delete(S, todelete, axis=0)\n",
    "    fracsum = np.delete(fracsum, todelete, axis=0)\n",
    "    df = df.drop(df.index[todelete]).reset_index(drop=True)\n",
    "    \n",
    "    print('Atomic radii and electronegativities for each Wyckoff site extracted in',\n",
    "          round(time.time()-start,2),' s')   \n",
    "    \n",
    "    return x, S, fracsum, df\n",
    "\n",
    "def add_rad_elec(X = np.ones((1,1,1))):\n",
    "    \"\"\"\n",
    "    This function gets the average atomic radii and electronegativities per site for each compound. \n",
    "    Parameters:\n",
    "\tX: a Numpy array\n",
    "    Returns:\n",
    "\tx: a Numpy array. The dimensions of the array correspond to a tensor of shape \n",
    "\t(samples,1,atomic radii and electronegativites).\n",
    "    \"\"\"\n",
    "    X = X[:,:,:2]\n",
    "    x = X.reshape((X.shape[0], 1, X.shape[1]*X.shape[2]))\n",
    "    return x\n",
    "\n",
    "def compute_quotients(X = np.zeros((1,1,2))):\n",
    "    \"\"\"\n",
    "    Returns the atomic radii pair quotients and the atomic radii \n",
    "    pair sum - quotients as a numpy array. This is the first part of\n",
    "    all the features used to train the ANNs. The output of \n",
    "    this function is saved as X.npy\n",
    "    \n",
    "    Parameters:\n",
    "        X: A numpy array, which is created with the function raw_features_extractor\n",
    "    Returns:\n",
    "        X: A numpy array of dimension [samples,1,features]\n",
    "    \"\"\"\n",
    "    \n",
    "    start=time.time()\n",
    "    rad = X[:,:,1]\n",
    "\n",
    "    drad = np.asarray([[item[0]/item[1] if item[1] != 0 else 0 for item in list(itertools.combinations(rad[sample],2))] \\\n",
    "                        for sample in range(X.shape[0])])\n",
    "\n",
    "    dradsum = np.asarray([[item[0]/item[1] if item[1] != 0 else 0 for item in itertools.combinations([ \\\n",
    "                       item[0]+item[1] for item in list(itertools.combinations(rad[sample],2))], 2)] \\\n",
    "                       for sample in range(drad.shape[0])])\n",
    "    \n",
    "    drad = np.reshape(drad,(drad.shape[0],1,drad.shape[-1]))\n",
    "    drads = np.reshape(dradsum,(dradsum.shape[0],1,dradsum.shape[-1]))\n",
    "    \n",
    "    Xq = np.concatenate((drad,drads), axis=2)\n",
    "    print('Geometric and packing factors computed in', round(time.time()-start,2),' s')\n",
    "    #np.save('X', Xq)\n",
    "    \n",
    "    return Xq\n",
    "\n",
    "def append_local_functions(X = np.zeros((1,1,1)), df = pd.DataFrame(), \n",
    "                           local_function='./support/Rc_25_pot_2.0_diccio'):\n",
    "    \"\"\"\n",
    "    Returns the features with the local functions. In case the local function\n",
    "    does not exist for a sample in the collection, this is deleted and the\n",
    "    collection is updated. The X.npy is updated.\n",
    "    \n",
    "    Parameters:\n",
    "        X: The numpy array created with compute_quotients\n",
    "        df: The pandas DataFrame created with raw_features_extractor\n",
    "        local_function: The numpy dictionary having the local function to use.\n",
    "    Returns:\n",
    "        X: The numpy array with all neccesary features for the ANNs.\n",
    "        df: The pandas DataFrame updated.\n",
    "    \"\"\"\n",
    "    start = time.time()\n",
    "    print('The dictionary ' + local_function + ' will be used for local functions')\n",
    "    fij = np.load(local_function + '.npy', allow_pickle=True).item()\n",
    "    \n",
    "    delrow = list()\n",
    "    n = df['sites'].max()\n",
    "    \n",
    "    f = np.zeros((df.shape[0],n,n))\n",
    "    \n",
    "    for row in range(df.shape[0]):\n",
    "        if df['name'][row] not in fij.keys():\n",
    "            delrow += [row]\n",
    "        else:\n",
    "            loc = fij[df['name'][row]]\n",
    "            s = loc.shape[1]\n",
    "            f[row,-s:,-s:] = loc\n",
    "    \n",
    "    if len(delrow) != 0:\n",
    "        \n",
    "        print('The compounds with the next cifs will be deleted since ',\n",
    "              'their local functions are not currently available')\n",
    "        print([df['name'][i] for i in delrow])\n",
    "        print('The compound collection will be updated')\n",
    "        \n",
    "        totake = [i for i in range(df.shape[0]) if i not in delrow]\n",
    "        df = df.take(totake).reset_index(drop=True)\n",
    "        X = X[totake]\n",
    "        f = f[totake]\n",
    "        #df.to_csv('compounds_collection.csv', index=None)\n",
    "    '''\n",
    "    #Esta parte trabaja para las funciones de localidad cuando incorporan la diferencia de electronegatividades\n",
    "    \n",
    "    fn = np.zeros((f.shape[0], f.shape[1], f.shape[2] - 1))        \n",
    "    for item in range(f.shape[0]):\n",
    "        delec = f[item]\n",
    "        delec = delec[~np.eye(delec.shape[0], dtype=bool)].reshape(delec.shape[0],-1)\n",
    "        fn[item] = delec\n",
    "    \n",
    "    f = fn\n",
    "    '''\n",
    "    f = f.reshape((f.shape[0], 1, f.shape[1]*f.shape[2]))\n",
    "    print(X.shape, f.shape)\n",
    "    \n",
    "    X = np.concatenate((X,f), axis = 2)\n",
    "    print('Local functions appended to features in ', round(time.time()-start,2),' s')\n",
    "    return X, df"
   ]
  },
  {
   "cell_type": "markdown",
   "id": "1d59f1e2",
   "metadata": {},
   "source": [
    "The process begins with the construction of descriptors for each sample. If this is not feasible, the sample is discarded and the collection summary is updated accordingly."
   ]
  },
  {
   "cell_type": "code",
   "execution_count": 4,
   "id": "9d6bc04f",
   "metadata": {},
   "outputs": [
    {
     "name": "stdout",
     "output_type": "stream",
     "text": [
      "(9290, 10, 96)\n",
      "Atomic radii and electronegativities for each Wyckoff site extracted in 0.61  s\n",
      "Dropping rows having a noble gas in the formula\n",
      "There are 9275 rows remaining\n"
     ]
    }
   ],
   "source": [
    "xraw, multiplicity, fracSum, df = raw_features_extractor(sites=10, df=df)\n",
    "\n",
    "notANobleGas = [i for i in np.argwhere((xraw == -1).sum(axis=(1,2)) == 0)[:,0]]\n",
    "\n",
    "if len(notANobleGas):\n",
    "    print('Dropping rows having a noble gas in the formula')\n",
    "    print('There are', len(notANobleGas),'rows remaining')\n",
    "\n",
    "xraw = xraw[notANobleGas]\n",
    "multiplicity= multiplicity[notANobleGas]\n",
    "fracSum = fracSum[notANobleGas]\n",
    "df = df.iloc[notANobleGas,:].reset_index(drop=True)"
   ]
  },
  {
   "cell_type": "code",
   "execution_count": 5,
   "id": "bb52ff88",
   "metadata": {},
   "outputs": [
    {
     "name": "stdout",
     "output_type": "stream",
     "text": [
      "Geometric and packing factors computed in 2.03  s\n"
     ]
    }
   ],
   "source": [
    "x = add_rad_elec(X = xraw)\n",
    "xq = compute_quotients(xraw)\n",
    "\n",
    "#x = np.concatenate((x, xq), axis=-1)"
   ]
  },
  {
   "cell_type": "code",
   "execution_count": 6,
   "id": "979a576d",
   "metadata": {},
   "outputs": [
    {
     "name": "stdout",
     "output_type": "stream",
     "text": [
      "The dictionary ./support/Rc_25_pot_2.0_diccio will be used for local functions\n",
      "The compounds with the next cifs will be deleted since  their local functions are not currently available\n",
      "['SM-10200', 'SM-10269', 'SM-10928', 'SM-10937', 'SM-11313', 'SM-11551', 'SM-11563', 'SM-11632', 'SM-11634', 'SM-11638', 'SM-11688', 'SM-11689', 'SM-11862', 'SM-11893', 'SM-1196', 'SM-12014', 'SM-12032', 'SM-12079', 'SM-12098', 'SM-12129', 'SM-12142', 'SM-12147', 'SM-12164', 'SM-1223', 'SM-12285', 'SM-1229', 'SM-1237', 'SM-12453', 'SM-12552', 'SM-12675', 'SM-12679', 'SM-12975', 'SM-13001', 'SM-13002', 'SM-13061', 'SM-13078', 'SM-13151', 'SM-13219', 'SM-13286', 'SM-13329', 'SM-13349', 'SM-13382', 'SM-13396', 'SM-13406', 'SM-13419', 'SM-13420', 'SM-13422', 'SM-13458', 'SM-13479', 'SM-13487', 'SM-13504', 'SM-13517', 'SM-13549', 'SM-13568', 'SM-13570', 'SM-13826', 'SM-13945', 'SM-14005', 'SM-14013', 'SM-14022', 'SM-14039', 'SM-14040', 'SM-14110', 'SM-14169', 'SM-14246', 'SM-14248', 'SM-15062', 'SM-15094', 'SM-15127', 'SM-15224', 'SM-15231', 'SM-15265', 'SM-15384', 'SM-15436', 'SM-15453', 'SM-15468', 'SM-15481', 'SM-15486', 'SM-15833', 'SM-15843', 'SM-15856', 'SM-15861', 'SM-15865', 'SM-15884', 'SM-15899', 'SM-15907', 'SM-15928', 'SM-15978', 'SM-16028', 'SM-16077', 'SM-16216', 'SM-16363', 'SM-16383', 'SM-16384', 'SM-16497', 'SM-16653', 'SM-16862', 'SM-16870', 'SM-16871', 'SM-17234', 'SM-17236', 'SM-17289', 'SM-17471', 'SM-17505', 'SM-17725', 'SM-17788', 'SM-17796', 'SM-18123', 'SM-18149', 'SM-18178', 'SM-18371', 'SM-18562', 'SM-18663', 'SM-18811', 'SM-18836', 'SM-18972', 'SM-18995', 'SM-19016', 'SM-19114', 'SM-19293', 'SM-19301', 'SM-19548', 'SM-19801', 'SM-19802', 'SM-19807', 'SM-19808', 'SM-19860', 'SM-19931', 'SM-19933', 'SM-19969', 'SM-19972', 'SM-19980', 'SM-19981', 'SM-19987', 'SM-19990', 'SM-20017', 'SM-20041', 'SM-20065', 'SM-20066', 'SM-20070', 'SM-20171', 'SM-20231', 'SM-20501', 'SM-20578', 'SM-2130', 'SM-2370', 'SM-2397', 'SM-2957', 'SM-3335', 'SM-3881', 'SM-4030', 'SM-4083', 'SM-4131', 'SM-4171', 'SM-4456', 'SM-4457', 'SM-4637', 'SM-4663', 'SM-4679', 'SM-4696', 'SM-4707', 'SM-4821', 'SM-4833', 'SM-4843', 'SM-4903', 'SM-4955', 'SM-5276', 'SM-5414', 'SM-5484', 'SM-570', 'SM-5775', 'SM-582', 'SM-5937', 'SM-6044', 'SM-6050', 'SM-6280', 'SM-6350', 'SM-6402', 'SM-7113', 'SM-7556', 'SM-7662', 'SM-7745', 'SM-7785', 'SM-7828', 'SM-7859', 'SM-7891', 'SM-7901', 'SM-7921', 'SM-7996', 'SM-8038', 'SM-8047', 'SM-8090', 'SM-8091', 'SM-8092', 'SM-8124', 'SM-8167', 'SM-8168', 'SM-8169', 'SM-8170', 'SM-8171', 'SM-8172', 'SM-8187', 'SM-8726', 'SM-882', 'SM-926', 'SM-948', 'SM-9520', 'SM-9726', 'SM-9791', 'SM-9808', 'SM-9904', 'SM-9916', 'SM-9918']\n",
      "The compound collection will be updated\n",
      "(9062, 1, 20) (9062, 1, 100)\n",
      "Local functions appended to features in  0.1  s\n"
     ]
    }
   ],
   "source": [
    "x,df = append_local_functions(x, df)"
   ]
  },
  {
   "cell_type": "markdown",
   "id": "84522a9e",
   "metadata": {},
   "source": [
    "Descriptor construction is complete. Band gap information will be collected to generate output values."
   ]
  },
  {
   "cell_type": "code",
   "execution_count": 7,
   "id": "64c45e79",
   "metadata": {},
   "outputs": [],
   "source": [
    "idxdiccio = {k:v for v,k in enumerate(db.snumat_id.values)}\n",
    "y = db.iloc[[idxdiccio[df['name'][row]] for row in range(df.shape[0])]][['bg_gga', 'bg_gga_opt', 'bg_hse', 'bg_hse_opt']].values\n"
   ]
  },
  {
   "cell_type": "code",
   "execution_count": 8,
   "id": "5fb24678",
   "metadata": {},
   "outputs": [
    {
     "data": {
      "text/plain": [
       "(9062, 5)"
      ]
     },
     "execution_count": 8,
     "metadata": {},
     "output_type": "execute_result"
    }
   ],
   "source": [
    "patolli_complete=pd.concat([df['name'],pd.DataFrame(y)],axis=1)\n",
    "patolli_complete.columns = ['cif'] + ['bg_gga', 'bg_gga_opt', 'bg_hse', 'bg_hse_opt']\n",
    "patolli_complete.shape"
   ]
  },
  {
   "cell_type": "markdown",
   "id": "a5f039a7",
   "metadata": {},
   "source": [
    "Output values distribution."
   ]
  },
  {
   "cell_type": "code",
   "execution_count": 9,
   "id": "4609cc56",
   "metadata": {},
   "outputs": [
    {
     "data": {
      "text/plain": [
       "(array([1.74408222, 2.40261587, 2.80793064, 3.52104157]),\n",
       " array([1.25422112, 1.67128289, 1.55570872, 1.92821398]),\n",
       " array([10.114853, 24.270356, 12.495444, 26.906879]),\n",
       " array([ 0.      ,  0.      , -0.054436, -0.054436]))"
      ]
     },
     "execution_count": 9,
     "metadata": {},
     "output_type": "execute_result"
    }
   ],
   "source": [
    "y.mean(axis=0), y.std(axis=0), y.max(axis=0), y.min(axis=0)"
   ]
  },
  {
   "cell_type": "code",
   "execution_count": 10,
   "id": "4ff512e2",
   "metadata": {},
   "outputs": [
    {
     "data": {
      "image/png": "[encoded data removed]",
      "text/plain": [
       "<Figure size 640x480 with 1 Axes>"
      ]
     },
     "metadata": {},
     "output_type": "display_data"
    },
    {
     "data": {
      "image/png": "[encoded data removed]",
      "text/plain": [
       "<Figure size 640x480 with 1 Axes>"
      ]
     },
     "metadata": {},
     "output_type": "display_data"
    },
    {
     "data": {
      "image/png": "[encoded data removed]",
      "text/plain": [
       "<Figure size 640x480 with 1 Axes>"
      ]
     },
     "metadata": {},
     "output_type": "display_data"
    },
    {
     "data": {
      "image/png": "[encoded data removed]",
      "text/plain": [
       "<Figure size 640x480 with 1 Axes>"
      ]
     },
     "metadata": {},
     "output_type": "display_data"
    }
   ],
   "source": [
    "for outputValue in range(4):\n",
    "    \n",
    "    plt.figure()\n",
    "    plt.hist(y[:,outputValue], bins=200, color='blue')\n",
    "    plt.show()"
   ]
  },
  {
   "cell_type": "markdown",
   "id": "a050d071",
   "metadata": {},
   "source": [
    "Band gaps will be constrained to a range between 0 and the mean value plus two standard deviations. The sample collection (df) and the descriptor collection (x) are then updated."
   ]
  },
  {
   "cell_type": "code",
   "execution_count": 11,
   "id": "44bc1e90",
   "metadata": {},
   "outputs": [
    {
     "data": {
      "text/plain": [
       "(8134, 6)"
      ]
     },
     "execution_count": 11,
     "metadata": {},
     "output_type": "execute_result"
    }
   ],
   "source": [
    "conditions = dict()\n",
    "for row in range(y.shape[-1]):\n",
    "    conditions[row] = np.intersect1d(np.argwhere(0 < y[:,row])[:,0], np.argwhere(y[:,row] <= y[:,row].mean() + 2*y[:,row].std())[:,0])\n",
    "\n",
    "\n",
    "idxRightOutputs = np.intersect1d(np.intersect1d(conditions[0], conditions[1]), np.intersect1d(conditions[2], conditions[3]))\n",
    "\n",
    "x = x[idxRightOutputs]\n",
    "y = y[idxRightOutputs]\n",
    "df = df.iloc[idxRightOutputs].reset_index(drop=True)\n",
    "df.shape"
   ]
  },
  {
   "cell_type": "code",
   "execution_count": 12,
   "id": "4aa8c9e9",
   "metadata": {},
   "outputs": [
    {
     "data": {
      "image/png": "[encoded data removed]",
      "text/plain": [
       "<Figure size 640x480 with 1 Axes>"
      ]
     },
     "metadata": {},
     "output_type": "display_data"
    },
    {
     "data": {
      "image/png": "[encoded data removed]",
      "text/plain": [
       "<Figure size 640x480 with 1 Axes>"
      ]
     },
     "metadata": {},
     "output_type": "display_data"
    },
    {
     "data": {
      "image/png": "[encoded data removed]",
      "text/plain": [
       "<Figure size 640x480 with 1 Axes>"
      ]
     },
     "metadata": {},
     "output_type": "display_data"
    },
    {
     "data": {
      "image/png": "[encoded data removed]",
      "text/plain": [
       "<Figure size 640x480 with 1 Axes>"
      ]
     },
     "metadata": {},
     "output_type": "display_data"
    }
   ],
   "source": [
    "for outputValue in range(4):\n",
    "    \n",
    "    plt.figure()\n",
    "    plt.hist(y[:,outputValue], bins=200, color='blue')\n",
    "    plt.show()"
   ]
  },
  {
   "cell_type": "markdown",
   "id": "bf2be184",
   "metadata": {},
   "source": [
    "Z-score scaling"
   ]
  },
  {
   "cell_type": "code",
   "execution_count": 13,
   "id": "bf0c2750",
   "metadata": {},
   "outputs": [],
   "source": [
    "mean = np.mean(x, axis=(1,2), keepdims = True)\n",
    "std = np.std(x, axis=(1,2), keepdims=True)\n",
    "\n",
    "xnorm = (x-mean)/std"
   ]
  },
  {
   "cell_type": "code",
   "execution_count": 14,
   "id": "7ae3621d",
   "metadata": {},
   "outputs": [
    {
     "data": {
      "text/plain": [
       "(8134, 5)"
      ]
     },
     "execution_count": 14,
     "metadata": {},
     "output_type": "execute_result"
    }
   ],
   "source": [
    "patolli_df=pd.concat([df['name'],pd.DataFrame(xnorm[:,0,:]),pd.DataFrame(y)],axis=1)\n",
    "patolli_df.columns = ['cif']+list(patolli_df.columns[1:-4]) + ['bg_gga', 'bg_gga_opt', 'bg_hse', 'bg_hse_opt']\n",
    "patolli_df.dtypes\n",
    "patolli_y=pd.concat([df['name'],pd.DataFrame(y)],axis=1)\n",
    "patolli_y.columns = ['cif'] + ['bg_gga', 'bg_gga_opt', 'bg_hse', 'bg_hse_opt']\n",
    "patolli_y.shape\n",
    "\n"
   ]
  },
  {
   "cell_type": "markdown",
   "id": "bf7491c3",
   "metadata": {},
   "source": [
    "### Splitting the full dataset into training–validation and test sets"
   ]
  },
  {
   "cell_type": "code",
   "execution_count": 15,
   "id": "e50ad7a2",
   "metadata": {},
   "outputs": [],
   "source": [
    "testFraction = 0.20"
   ]
  },
  {
   "cell_type": "code",
   "execution_count": 16,
   "id": "a841d4c7",
   "metadata": {},
   "outputs": [],
   "source": [
    "np.random.choice.__doc__.split('\\n')# df.shape[0]\n",
    "np.random.seed(3451)\n",
    "idxtest = np.random.choice(range(df.shape[0]), size = int(testFraction*df.shape[0]), replace=False)\n",
    "idxtraval = [i for i in range(df.shape[0]) if i not in idxtest]\n",
    "\n",
    "xtravalOr = xnorm[idxtraval]\n",
    "xtest = xnorm[idxtest]\n",
    "np.save('data/patolli_generated_data/patolli_gen_desc_xtest_2s_fgsm.npy',xtest)\n",
    "ytravalOr = y[idxtraval]\n",
    "ytest = y[idxtest]\n",
    "np.save('data/patolli_generated_data/patolli_gen_desc_ytest_2s_fgsm.npy',ytest)\n",
    "dftravalOr = df.iloc[idxtraval].reset_index(drop=True)\n",
    "dftest = df.iloc[idxtest].reset_index(drop=True)\n"
   ]
  },
  {
   "cell_type": "code",
   "execution_count": 17,
   "id": "7305460f",
   "metadata": {},
   "outputs": [
    {
     "name": "stdout",
     "output_type": "stream",
     "text": [
      "(1626, 1, 120)\n"
     ]
    }
   ],
   "source": [
    "print(xtest.shape)"
   ]
  },
  {
   "cell_type": "markdown",
   "id": "b28f074f",
   "metadata": {},
   "source": [
    "### Randomization"
   ]
  },
  {
   "cell_type": "code",
   "execution_count": 18,
   "id": "f71db027",
   "metadata": {},
   "outputs": [
    {
     "name": "stdout",
     "output_type": "stream",
     "text": [
      "(6508, 1, 120) (6508, 4) (6508, 6)\n"
     ]
    }
   ],
   "source": [
    "xtraval, ytraval, dftraval = shuffle(xtravalOr, ytravalOr, dftravalOr, random_state=3451)\n",
    "xtraval, ytraval, dftraval = shuffle(xtraval, ytraval, dftraval, random_state=3451)\n",
    "xtraval, ytraval, dftraval = shuffle(xtraval, ytraval, dftraval, random_state=3451)\n",
    "np.save('data/patolli_generated_data/patolli_gen_desc_xtraval_2s_fgsm.npy',xtraval)\n",
    "np.save('data/patolli_generated_data/patolli_gen_desc_ytraval_2s_fgsm.npy',ytraval)\n",
    "dftraval.to_csv('data/patolli_generated_data/patolli_gen_desc_dftraval_2s.csv',index=False)\n",
    "print(xtraval.shape, ytraval.shape, dftraval.shape)"
   ]
  },
  {
   "cell_type": "markdown",
   "id": "863d76eb",
   "metadata": {},
   "source": [
    "Load patolli and CNN-extracted features "
   ]
  },
  {
   "cell_type": "code",
   "execution_count": 19,
   "id": "d7117905",
   "metadata": {},
   "outputs": [
    {
     "data": {
      "text/plain": [
       "(6765, 165)"
      ]
     },
     "execution_count": 19,
     "metadata": {},
     "output_type": "execute_result"
    }
   ],
   "source": [
    "# Load patolli generated features\n",
    "#patolli_df=pd.read_csv('patolli_for_transfer.csv')\n",
    "#patolli_y=pd.read_csv('patolli_targets_for_transfer.csv')\n",
    "\n",
    "# Load extracted diffractogram-based features\n",
    "x_features = np.load(\"data/cnn_extracted_data/Apr_18_13_35_2024/featureExtraction/hfset.npy\")\n",
    "x_features_df = pd.DataFrame(x_features)\n",
    "\n",
    "\n",
    "# Load dataset with material IDs (cif) and labels\n",
    "df_base = pd.read_csv(\"data/cnn_extracted_data/Apr_18_13_35_2024/featureExtraction/dataset.csv\")\n",
    "\n",
    "# Combine IDs with features\n",
    "dataset = pd.concat([df_base[\"cif\"], x_features_df], axis=1)\n",
    "\n",
    "# Merge with target values\n",
    "\n",
    "dataset = dataset.merge(patolli_y, on=\"cif\", how=\"inner\")\n",
    "dataset.shape\n"
   ]
  },
  {
   "cell_type": "markdown",
   "id": "1267711a",
   "metadata": {},
   "source": [
    "Load and preparation of pre-built test and training/validation splits"
   ]
  },
  {
   "cell_type": "code",
   "execution_count": 20,
   "id": "db489863",
   "metadata": {},
   "outputs": [
    {
     "data": {
      "text/html": [
       "<div>\n",
       "<style scoped>\n",
       "    .dataframe tbody tr th:only-of-type {\n",
       "        vertical-align: middle;\n",
       "    }\n",
       "\n",
       "    .dataframe tbody tr th {\n",
       "        vertical-align: top;\n",
       "    }\n",
       "\n",
       "    .dataframe thead th {\n",
       "        text-align: right;\n",
       "    }\n",
       "</style>\n",
       "<table border=\"1\" class=\"dataframe\">\n",
       "  <thead>\n",
       "    <tr style=\"text-align: right;\">\n",
       "      <th></th>\n",
       "      <th>cif</th>\n",
       "    </tr>\n",
       "  </thead>\n",
       "  <tbody>\n",
       "    <tr>\n",
       "      <th>0</th>\n",
       "      <td>SM-17469</td>\n",
       "    </tr>\n",
       "    <tr>\n",
       "      <th>1</th>\n",
       "      <td>SM-5479</td>\n",
       "    </tr>\n",
       "    <tr>\n",
       "      <th>2</th>\n",
       "      <td>SM-14957</td>\n",
       "    </tr>\n",
       "    <tr>\n",
       "      <th>3</th>\n",
       "      <td>SM-3801</td>\n",
       "    </tr>\n",
       "    <tr>\n",
       "      <th>4</th>\n",
       "      <td>SM-17845</td>\n",
       "    </tr>\n",
       "  </tbody>\n",
       "</table>\n",
       "</div>"
      ],
      "text/plain": [
       "        cif\n",
       "0  SM-17469\n",
       "1   SM-5479\n",
       "2  SM-14957\n",
       "3   SM-3801\n",
       "4  SM-17845"
      ]
     },
     "metadata": {},
     "output_type": "display_data"
    },
    {
     "data": {
      "text/plain": [
       "(25984, 1)"
      ]
     },
     "metadata": {},
     "output_type": "display_data"
    },
    {
     "data": {
      "text/html": [
       "<div>\n",
       "<style scoped>\n",
       "    .dataframe tbody tr th:only-of-type {\n",
       "        vertical-align: middle;\n",
       "    }\n",
       "\n",
       "    .dataframe tbody tr th {\n",
       "        vertical-align: top;\n",
       "    }\n",
       "\n",
       "    .dataframe thead th {\n",
       "        text-align: right;\n",
       "    }\n",
       "</style>\n",
       "<table border=\"1\" class=\"dataframe\">\n",
       "  <thead>\n",
       "    <tr style=\"text-align: right;\">\n",
       "      <th></th>\n",
       "      <th>cif</th>\n",
       "    </tr>\n",
       "  </thead>\n",
       "  <tbody>\n",
       "    <tr>\n",
       "      <th>0</th>\n",
       "      <td>SM-10014</td>\n",
       "    </tr>\n",
       "    <tr>\n",
       "      <th>1</th>\n",
       "      <td>SM-10015</td>\n",
       "    </tr>\n",
       "    <tr>\n",
       "      <th>2</th>\n",
       "      <td>SM-10018</td>\n",
       "    </tr>\n",
       "    <tr>\n",
       "      <th>3</th>\n",
       "      <td>SM-10019</td>\n",
       "    </tr>\n",
       "    <tr>\n",
       "      <th>4</th>\n",
       "      <td>SM-10020</td>\n",
       "    </tr>\n",
       "  </tbody>\n",
       "</table>\n",
       "</div>"
      ],
      "text/plain": [
       "        cif\n",
       "0  SM-10014\n",
       "1  SM-10015\n",
       "2  SM-10018\n",
       "3  SM-10019\n",
       "4  SM-10020"
      ]
     },
     "metadata": {},
     "output_type": "display_data"
    },
    {
     "data": {
      "text/plain": [
       "(6496, 1)"
      ]
     },
     "metadata": {},
     "output_type": "display_data"
    }
   ],
   "source": [
    "# Load train-validation/test splits\n",
    "df_test = pd.read_csv(\"data/cnn_extracted_data/Apr_18_13_35_2024/dftest.csv\")\n",
    "df_traval = pd.read_csv(\"data/cnn_extracted_data/Apr_18_13_35_2024/dftraval.csv\")\n",
    "\n",
    "# Drop unused HSE bandgap column and reset index\n",
    "df_test = df_test.drop(columns=[\"bg_hse\"]).reset_index(drop=True)\n",
    "df_traval = df_traval.drop(columns=[\"bg_hse\"]).reset_index(drop=True)\n",
    "\n",
    "# Ensure unique CIF identifiers\n",
    "df_test[\"cif\"] = df_test[\"cif\"].drop_duplicates()\n",
    "df_traval[\"cif\"] = df_traval[\"cif\"].drop_duplicates()\n",
    "\n",
    "# Manual inspection\n",
    "display(df_test.head(),df_traval.shape)\n",
    "display(df_traval.head(),df_test.shape)\n",
    "\n"
   ]
  },
  {
   "cell_type": "code",
   "execution_count": 21,
   "id": "70593e4d",
   "metadata": {},
   "outputs": [
    {
     "data": {
      "text/plain": [
       "(5425, 165)"
      ]
     },
     "metadata": {},
     "output_type": "display_data"
    },
    {
     "data": {
      "text/plain": [
       "cif            object\n",
       "0             float32\n",
       "1             float32\n",
       "2             float32\n",
       "3             float32\n",
       "               ...   \n",
       "159           float32\n",
       "bg_gga        float64\n",
       "bg_gga_opt    float64\n",
       "bg_hse        float64\n",
       "bg_hse_opt    float64\n",
       "Length: 165, dtype: object"
      ]
     },
     "metadata": {},
     "output_type": "display_data"
    }
   ],
   "source": [
    "# Merge training set with full dataset (features + targets)\n",
    "traval_df = df_traval.merge(dataset, on=\"cif\", how=\"inner\")\n",
    "display(traval_df.shape)\n",
    "\n",
    "# Merge test set\n",
    "test_df = df_test.merge(dataset, on=\"cif\", how=\"inner\")\n",
    "display(test_df.dtypes)\n"
   ]
  },
  {
   "cell_type": "code",
   "execution_count": 22,
   "id": "4c0c9159",
   "metadata": {},
   "outputs": [
    {
     "name": "stdout",
     "output_type": "stream",
     "text": [
      "(5425, 4) (1340, 4)\n"
     ]
    }
   ],
   "source": [
    "# Save merged splits\n",
    "traval_df.to_csv(\"data/cnn_extracted_data/extracted_only_traval_fgsm.csv\", index=False)\n",
    "test_df.to_csv(\"data/cnn_extracted_data/extracted_only_test_fgsm.csv\", index=False)\n",
    "\n",
    "# Extract target values (bandgaps) as numpy arrays\n",
    "y_traval = traval_df[[\"bg_gga\", \"bg_gga_opt\", \"bg_hse\", \"bg_hse_opt\"]].to_numpy()\n",
    "y_test = test_df[[\"bg_gga\", \"bg_gga_opt\", \"bg_hse\", \"bg_hse_opt\"]].to_numpy()\n",
    "\n",
    "print(y_traval.shape, y_test.shape)\n"
   ]
  },
  {
   "cell_type": "code",
   "execution_count": 23,
   "id": "e1777685",
   "metadata": {},
   "outputs": [
    {
     "data": {
      "text/plain": [
       "(1340, 160)"
      ]
     },
     "metadata": {},
     "output_type": "display_data"
    },
    {
     "data": {
      "text/plain": [
       "(5425, 160)"
      ]
     },
     "metadata": {},
     "output_type": "display_data"
    }
   ],
   "source": [
    "# Drop non-feature columns to isolate feature arrays\n",
    "x_traval = traval_df.drop(columns=[\"cif\", \"bg_gga\", \"bg_gga_opt\", \"bg_hse\", \"bg_hse_opt\"]).values\n",
    "x_test = test_df.drop(columns=[\"cif\", \"bg_gga\", \"bg_gga_opt\", \"bg_hse\", \"bg_hse_opt\"]).values\n",
    "\n",
    "display(x_test.shape)\n",
    "display(x_traval.shape)\n"
   ]
  },
  {
   "cell_type": "code",
   "execution_count": 24,
   "id": "4e2d2eca",
   "metadata": {},
   "outputs": [
    {
     "data": {
      "text/html": [
       "<div>\n",
       "<style scoped>\n",
       "    .dataframe tbody tr th:only-of-type {\n",
       "        vertical-align: middle;\n",
       "    }\n",
       "\n",
       "    .dataframe tbody tr th {\n",
       "        vertical-align: top;\n",
       "    }\n",
       "\n",
       "    .dataframe thead th {\n",
       "        text-align: right;\n",
       "    }\n",
       "</style>\n",
       "<table border=\"1\" class=\"dataframe\">\n",
       "  <thead>\n",
       "    <tr style=\"text-align: right;\">\n",
       "      <th></th>\n",
       "      <th>cif</th>\n",
       "      <th>0</th>\n",
       "      <th>1</th>\n",
       "      <th>2</th>\n",
       "      <th>3</th>\n",
       "      <th>4</th>\n",
       "      <th>5</th>\n",
       "      <th>6</th>\n",
       "      <th>7</th>\n",
       "      <th>8</th>\n",
       "      <th>...</th>\n",
       "      <th>274</th>\n",
       "      <th>275</th>\n",
       "      <th>276</th>\n",
       "      <th>277</th>\n",
       "      <th>278</th>\n",
       "      <th>279</th>\n",
       "      <th>bg_gga</th>\n",
       "      <th>bg_gga_opt</th>\n",
       "      <th>bg_hse</th>\n",
       "      <th>bg_hse_opt</th>\n",
       "    </tr>\n",
       "  </thead>\n",
       "  <tbody>\n",
       "    <tr>\n",
       "      <th>0</th>\n",
       "      <td>SM-1000</td>\n",
       "      <td>0.540492</td>\n",
       "      <td>-0.930807</td>\n",
       "      <td>1.735219</td>\n",
       "      <td>-0.901577</td>\n",
       "      <td>-1.335915</td>\n",
       "      <td>0.193955</td>\n",
       "      <td>-0.599575</td>\n",
       "      <td>-1.133359</td>\n",
       "      <td>0.713234</td>\n",
       "      <td>...</td>\n",
       "      <td>-0.248870</td>\n",
       "      <td>-0.248870</td>\n",
       "      <td>-0.248870</td>\n",
       "      <td>-0.248870</td>\n",
       "      <td>2.998947</td>\n",
       "      <td>4.220380</td>\n",
       "      <td>1.395717</td>\n",
       "      <td>1.666532</td>\n",
       "      <td>3.088441</td>\n",
       "      <td>3.443899</td>\n",
       "    </tr>\n",
       "    <tr>\n",
       "      <th>1</th>\n",
       "      <td>SM-10008</td>\n",
       "      <td>1.848330</td>\n",
       "      <td>-0.844999</td>\n",
       "      <td>1.047875</td>\n",
       "      <td>-0.372645</td>\n",
       "      <td>-1.361206</td>\n",
       "      <td>0.738601</td>\n",
       "      <td>-0.493712</td>\n",
       "      <td>1.159457</td>\n",
       "      <td>1.111116</td>\n",
       "      <td>...</td>\n",
       "      <td>0.756114</td>\n",
       "      <td>0.830319</td>\n",
       "      <td>0.460875</td>\n",
       "      <td>0.470997</td>\n",
       "      <td>2.149566</td>\n",
       "      <td>1.022493</td>\n",
       "      <td>2.448348</td>\n",
       "      <td>2.448348</td>\n",
       "      <td>3.409682</td>\n",
       "      <td>3.409682</td>\n",
       "    </tr>\n",
       "    <tr>\n",
       "      <th>2</th>\n",
       "      <td>SM-10012</td>\n",
       "      <td>0.952382</td>\n",
       "      <td>-0.990264</td>\n",
       "      <td>0.862427</td>\n",
       "      <td>-1.220746</td>\n",
       "      <td>-1.081140</td>\n",
       "      <td>-0.720694</td>\n",
       "      <td>-1.380363</td>\n",
       "      <td>-1.320711</td>\n",
       "      <td>-0.263088</td>\n",
       "      <td>...</td>\n",
       "      <td>-0.370325</td>\n",
       "      <td>-0.370325</td>\n",
       "      <td>-0.370325</td>\n",
       "      <td>2.926676</td>\n",
       "      <td>2.832751</td>\n",
       "      <td>1.390666</td>\n",
       "      <td>0.388741</td>\n",
       "      <td>1.884429</td>\n",
       "      <td>1.028657</td>\n",
       "      <td>2.560054</td>\n",
       "    </tr>\n",
       "    <tr>\n",
       "      <th>3</th>\n",
       "      <td>SM-10014</td>\n",
       "      <td>0.515531</td>\n",
       "      <td>-0.705162</td>\n",
       "      <td>0.685380</td>\n",
       "      <td>-1.372145</td>\n",
       "      <td>-0.093186</td>\n",
       "      <td>0.511909</td>\n",
       "      <td>0.622013</td>\n",
       "      <td>1.483238</td>\n",
       "      <td>-0.082329</td>\n",
       "      <td>...</td>\n",
       "      <td>-0.343609</td>\n",
       "      <td>-0.343609</td>\n",
       "      <td>-0.343609</td>\n",
       "      <td>0.635939</td>\n",
       "      <td>3.155183</td>\n",
       "      <td>2.775969</td>\n",
       "      <td>2.405025</td>\n",
       "      <td>2.405025</td>\n",
       "      <td>3.224964</td>\n",
       "      <td>3.224964</td>\n",
       "    </tr>\n",
       "    <tr>\n",
       "      <th>4</th>\n",
       "      <td>SM-10015</td>\n",
       "      <td>0.556142</td>\n",
       "      <td>-1.233051</td>\n",
       "      <td>0.092460</td>\n",
       "      <td>-0.346032</td>\n",
       "      <td>-0.862858</td>\n",
       "      <td>0.355043</td>\n",
       "      <td>0.935332</td>\n",
       "      <td>0.858745</td>\n",
       "      <td>-0.222300</td>\n",
       "      <td>...</td>\n",
       "      <td>-0.344006</td>\n",
       "      <td>-0.344006</td>\n",
       "      <td>-0.344006</td>\n",
       "      <td>0.621580</td>\n",
       "      <td>3.166369</td>\n",
       "      <td>3.005626</td>\n",
       "      <td>1.977195</td>\n",
       "      <td>1.977195</td>\n",
       "      <td>2.711083</td>\n",
       "      <td>2.711083</td>\n",
       "    </tr>\n",
       "    <tr>\n",
       "      <th>...</th>\n",
       "      <td>...</td>\n",
       "      <td>...</td>\n",
       "      <td>...</td>\n",
       "      <td>...</td>\n",
       "      <td>...</td>\n",
       "      <td>...</td>\n",
       "      <td>...</td>\n",
       "      <td>...</td>\n",
       "      <td>...</td>\n",
       "      <td>...</td>\n",
       "      <td>...</td>\n",
       "      <td>...</td>\n",
       "      <td>...</td>\n",
       "      <td>...</td>\n",
       "      <td>...</td>\n",
       "      <td>...</td>\n",
       "      <td>...</td>\n",
       "      <td>...</td>\n",
       "      <td>...</td>\n",
       "      <td>...</td>\n",
       "      <td>...</td>\n",
       "    </tr>\n",
       "    <tr>\n",
       "      <th>6760</th>\n",
       "      <td>SM-9988</td>\n",
       "      <td>1.207602</td>\n",
       "      <td>0.166007</td>\n",
       "      <td>0.351233</td>\n",
       "      <td>0.046756</td>\n",
       "      <td>-0.759212</td>\n",
       "      <td>0.664314</td>\n",
       "      <td>-0.285939</td>\n",
       "      <td>0.039608</td>\n",
       "      <td>1.185475</td>\n",
       "      <td>...</td>\n",
       "      <td>0.711226</td>\n",
       "      <td>-0.038275</td>\n",
       "      <td>0.252931</td>\n",
       "      <td>0.383517</td>\n",
       "      <td>0.229461</td>\n",
       "      <td>-0.329368</td>\n",
       "      <td>2.171310</td>\n",
       "      <td>2.944789</td>\n",
       "      <td>3.152018</td>\n",
       "      <td>3.939579</td>\n",
       "    </tr>\n",
       "    <tr>\n",
       "      <th>6761</th>\n",
       "      <td>SM-9989</td>\n",
       "      <td>0.890940</td>\n",
       "      <td>-0.724979</td>\n",
       "      <td>0.779244</td>\n",
       "      <td>-0.329344</td>\n",
       "      <td>-1.495707</td>\n",
       "      <td>0.341718</td>\n",
       "      <td>-0.372225</td>\n",
       "      <td>-0.856384</td>\n",
       "      <td>1.082122</td>\n",
       "      <td>...</td>\n",
       "      <td>0.595135</td>\n",
       "      <td>-0.225783</td>\n",
       "      <td>0.346405</td>\n",
       "      <td>0.384439</td>\n",
       "      <td>0.228336</td>\n",
       "      <td>-0.354465</td>\n",
       "      <td>1.408309</td>\n",
       "      <td>1.408309</td>\n",
       "      <td>2.279059</td>\n",
       "      <td>2.279059</td>\n",
       "    </tr>\n",
       "    <tr>\n",
       "      <th>6762</th>\n",
       "      <td>SM-999</td>\n",
       "      <td>1.563062</td>\n",
       "      <td>-0.901040</td>\n",
       "      <td>1.027722</td>\n",
       "      <td>-0.137728</td>\n",
       "      <td>-1.715994</td>\n",
       "      <td>0.185685</td>\n",
       "      <td>1.413454</td>\n",
       "      <td>-0.362167</td>\n",
       "      <td>0.862928</td>\n",
       "      <td>...</td>\n",
       "      <td>-1.338341</td>\n",
       "      <td>-0.912537</td>\n",
       "      <td>-0.898079</td>\n",
       "      <td>-0.926154</td>\n",
       "      <td>-0.952240</td>\n",
       "      <td>-1.535339</td>\n",
       "      <td>0.311664</td>\n",
       "      <td>0.377655</td>\n",
       "      <td>2.399116</td>\n",
       "      <td>2.399116</td>\n",
       "    </tr>\n",
       "    <tr>\n",
       "      <th>6763</th>\n",
       "      <td>SM-9991</td>\n",
       "      <td>1.767061</td>\n",
       "      <td>0.080335</td>\n",
       "      <td>1.771478</td>\n",
       "      <td>-0.923001</td>\n",
       "      <td>-1.183890</td>\n",
       "      <td>1.348524</td>\n",
       "      <td>0.961352</td>\n",
       "      <td>0.574679</td>\n",
       "      <td>1.658796</td>\n",
       "      <td>...</td>\n",
       "      <td>-0.399936</td>\n",
       "      <td>-0.399936</td>\n",
       "      <td>-0.109544</td>\n",
       "      <td>0.376818</td>\n",
       "      <td>0.863854</td>\n",
       "      <td>2.239832</td>\n",
       "      <td>0.262277</td>\n",
       "      <td>0.907452</td>\n",
       "      <td>0.781563</td>\n",
       "      <td>1.457649</td>\n",
       "    </tr>\n",
       "    <tr>\n",
       "      <th>6764</th>\n",
       "      <td>SM-9997</td>\n",
       "      <td>0.762671</td>\n",
       "      <td>-0.172194</td>\n",
       "      <td>1.320115</td>\n",
       "      <td>-0.535642</td>\n",
       "      <td>-1.537566</td>\n",
       "      <td>0.780176</td>\n",
       "      <td>-0.297572</td>\n",
       "      <td>-0.500018</td>\n",
       "      <td>0.764455</td>\n",
       "      <td>...</td>\n",
       "      <td>1.139266</td>\n",
       "      <td>0.420365</td>\n",
       "      <td>0.325847</td>\n",
       "      <td>0.461519</td>\n",
       "      <td>0.467484</td>\n",
       "      <td>-0.185126</td>\n",
       "      <td>2.320776</td>\n",
       "      <td>2.370447</td>\n",
       "      <td>3.613636</td>\n",
       "      <td>3.662546</td>\n",
       "    </tr>\n",
       "  </tbody>\n",
       "</table>\n",
       "<p>6765 rows × 285 columns</p>\n",
       "</div>"
      ],
      "text/plain": [
       "           cif         0         1         2         3         4         5  \\\n",
       "0      SM-1000  0.540492 -0.930807  1.735219 -0.901577 -1.335915  0.193955   \n",
       "1     SM-10008  1.848330 -0.844999  1.047875 -0.372645 -1.361206  0.738601   \n",
       "2     SM-10012  0.952382 -0.990264  0.862427 -1.220746 -1.081140 -0.720694   \n",
       "3     SM-10014  0.515531 -0.705162  0.685380 -1.372145 -0.093186  0.511909   \n",
       "4     SM-10015  0.556142 -1.233051  0.092460 -0.346032 -0.862858  0.355043   \n",
       "...        ...       ...       ...       ...       ...       ...       ...   \n",
       "6760   SM-9988  1.207602  0.166007  0.351233  0.046756 -0.759212  0.664314   \n",
       "6761   SM-9989  0.890940 -0.724979  0.779244 -0.329344 -1.495707  0.341718   \n",
       "6762    SM-999  1.563062 -0.901040  1.027722 -0.137728 -1.715994  0.185685   \n",
       "6763   SM-9991  1.767061  0.080335  1.771478 -0.923001 -1.183890  1.348524   \n",
       "6764   SM-9997  0.762671 -0.172194  1.320115 -0.535642 -1.537566  0.780176   \n",
       "\n",
       "             6         7         8  ...       274       275       276  \\\n",
       "0    -0.599575 -1.133359  0.713234  ... -0.248870 -0.248870 -0.248870   \n",
       "1    -0.493712  1.159457  1.111116  ...  0.756114  0.830319  0.460875   \n",
       "2    -1.380363 -1.320711 -0.263088  ... -0.370325 -0.370325 -0.370325   \n",
       "3     0.622013  1.483238 -0.082329  ... -0.343609 -0.343609 -0.343609   \n",
       "4     0.935332  0.858745 -0.222300  ... -0.344006 -0.344006 -0.344006   \n",
       "...        ...       ...       ...  ...       ...       ...       ...   \n",
       "6760 -0.285939  0.039608  1.185475  ...  0.711226 -0.038275  0.252931   \n",
       "6761 -0.372225 -0.856384  1.082122  ...  0.595135 -0.225783  0.346405   \n",
       "6762  1.413454 -0.362167  0.862928  ... -1.338341 -0.912537 -0.898079   \n",
       "6763  0.961352  0.574679  1.658796  ... -0.399936 -0.399936 -0.109544   \n",
       "6764 -0.297572 -0.500018  0.764455  ...  1.139266  0.420365  0.325847   \n",
       "\n",
       "           277       278       279    bg_gga  bg_gga_opt    bg_hse  bg_hse_opt  \n",
       "0    -0.248870  2.998947  4.220380  1.395717    1.666532  3.088441    3.443899  \n",
       "1     0.470997  2.149566  1.022493  2.448348    2.448348  3.409682    3.409682  \n",
       "2     2.926676  2.832751  1.390666  0.388741    1.884429  1.028657    2.560054  \n",
       "3     0.635939  3.155183  2.775969  2.405025    2.405025  3.224964    3.224964  \n",
       "4     0.621580  3.166369  3.005626  1.977195    1.977195  2.711083    2.711083  \n",
       "...        ...       ...       ...       ...         ...       ...         ...  \n",
       "6760  0.383517  0.229461 -0.329368  2.171310    2.944789  3.152018    3.939579  \n",
       "6761  0.384439  0.228336 -0.354465  1.408309    1.408309  2.279059    2.279059  \n",
       "6762 -0.926154 -0.952240 -1.535339  0.311664    0.377655  2.399116    2.399116  \n",
       "6763  0.376818  0.863854  2.239832  0.262277    0.907452  0.781563    1.457649  \n",
       "6764  0.461519  0.467484 -0.185126  2.320776    2.370447  3.613636    3.662546  \n",
       "\n",
       "[6765 rows x 285 columns]"
      ]
     },
     "metadata": {},
     "output_type": "display_data"
    }
   ],
   "source": [
    "# Bandgap labels of interest\n",
    "bandgap_cols = [\"bg_gga\", \"bg_gga_opt\", \"bg_hse\", \"bg_hse_opt\"]\n",
    "\n",
    "# Merge full dataset with patolli_df\n",
    "concat_df = dataset.merge(patolli_df, on=\"cif\", how=\"inner\")\n",
    "\n",
    "# Drop duplicate target columns from merge\n",
    "concat_df = concat_df.drop([\"bg_gga_x\", \"bg_gga_opt_x\", \"bg_hse_x\", \"bg_hse_opt_x\"], axis=1)\n",
    "\n",
    "# Rename columns: cif + feature indices + bandgaps\n",
    "concat_df.columns = [\"cif\"] + list(range(280)) + bandgap_cols\n",
    "\n",
    "display(concat_df)\n"
   ]
  },
  {
   "cell_type": "code",
   "execution_count": 25,
   "id": "9397d68c",
   "metadata": {},
   "outputs": [],
   "source": [
    "# Save concatenated training set\n",
    "traval_concat_df = df_traval.merge(concat_df, on=\"cif\", how=\"inner\")\n",
    "traval_concat_df.columns = [\"cif\"] + list(range(280)) + bandgap_cols\n",
    "traval_concat_df.to_csv(\"data/concatenated_data/traval_concat_df_2_fgsm.csv\", index=False)\n",
    "# Save concatenated test set\n",
    "test_concat_df = df_test.merge(concat_df, on=\"cif\", how=\"inner\")\n",
    "test_concat_df.columns = [\"cif\"] + list(range(280)) + bandgap_cols\n",
    "test_concat_df.to_csv(\"data/concatenated_data/test_concat_df_2_fgsm.csv\", index=False)\n"
   ]
  }
 ],
 "metadata": {
  "kernelspec": {
   "display_name": "TF2.17",
   "language": "python",
   "name": "python3"
  },
  "language_info": {
   "codemirror_mode": {
    "name": "ipython",
    "version": 3
   },
   "file_extension": ".py",
   "mimetype": "text/x-python",
   "name": "python",
   "nbconvert_exporter": "python",
   "pygments_lexer": "ipython3",
   "version": "3.12.4"
  }
 },
 "nbformat": 4,
 "nbformat_minor": 5
}
